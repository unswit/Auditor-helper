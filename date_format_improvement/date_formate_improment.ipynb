{
 "cells": [
  {
   "cell_type": "code",
   "execution_count": 23,
   "metadata": {},
   "outputs": [],
   "source": [
    "import pandas as pd"
   ]
  },
  {
   "cell_type": "code",
   "execution_count": 24,
   "metadata": {},
   "outputs": [],
   "source": [
    "data = 'book3.xlsx'"
   ]
  },
  {
   "cell_type": "code",
   "execution_count": 25,
   "metadata": {},
   "outputs": [],
   "source": [
    "df = pd.read_excel(io=data)"
   ]
  },
  {
   "cell_type": "code",
   "execution_count": 26,
   "metadata": {},
   "outputs": [
    {
     "data": {
      "text/html": [
       "<div>\n",
       "<style scoped>\n",
       "    .dataframe tbody tr th:only-of-type {\n",
       "        vertical-align: middle;\n",
       "    }\n",
       "\n",
       "    .dataframe tbody tr th {\n",
       "        vertical-align: top;\n",
       "    }\n",
       "\n",
       "    .dataframe thead th {\n",
       "        text-align: right;\n",
       "    }\n",
       "</style>\n",
       "<table border=\"1\" class=\"dataframe\">\n",
       "  <thead>\n",
       "    <tr style=\"text-align: right;\">\n",
       "      <th></th>\n",
       "      <th>客户日期</th>\n",
       "      <th>汇率表日期</th>\n",
       "    </tr>\n",
       "  </thead>\n",
       "  <tbody>\n",
       "    <tr>\n",
       "      <td>0</td>\n",
       "      <td>10/26/2013</td>\n",
       "      <td>2010-01-05</td>\n",
       "    </tr>\n",
       "    <tr>\n",
       "      <td>1</td>\n",
       "      <td>10/26/2013</td>\n",
       "      <td>2010-01-06</td>\n",
       "    </tr>\n",
       "    <tr>\n",
       "      <td>2</td>\n",
       "      <td>9/16/2015</td>\n",
       "      <td>2010-01-07</td>\n",
       "    </tr>\n",
       "    <tr>\n",
       "      <td>3</td>\n",
       "      <td>10/26/2013</td>\n",
       "      <td>2010-01-08</td>\n",
       "    </tr>\n",
       "    <tr>\n",
       "      <td>4</td>\n",
       "      <td>6/10/2014</td>\n",
       "      <td>2010-01-11</td>\n",
       "    </tr>\n",
       "  </tbody>\n",
       "</table>\n",
       "</div>"
      ],
      "text/plain": [
       "         客户日期      汇率表日期\n",
       "0  10/26/2013 2010-01-05\n",
       "1  10/26/2013 2010-01-06\n",
       "2   9/16/2015 2010-01-07\n",
       "3  10/26/2013 2010-01-08\n",
       "4   6/10/2014 2010-01-11"
      ]
     },
     "execution_count": 26,
     "metadata": {},
     "output_type": "execute_result"
    }
   ],
   "source": [
    "df.head()"
   ]
  },
  {
   "cell_type": "code",
   "execution_count": 27,
   "metadata": {},
   "outputs": [],
   "source": [
    "df['A'], df['B'],df['C'] = df['客户日期'].str.split('/').str"
   ]
  },
  {
   "cell_type": "code",
   "execution_count": 28,
   "metadata": {},
   "outputs": [
    {
     "data": {
      "text/html": [
       "<div>\n",
       "<style scoped>\n",
       "    .dataframe tbody tr th:only-of-type {\n",
       "        vertical-align: middle;\n",
       "    }\n",
       "\n",
       "    .dataframe tbody tr th {\n",
       "        vertical-align: top;\n",
       "    }\n",
       "\n",
       "    .dataframe thead th {\n",
       "        text-align: right;\n",
       "    }\n",
       "</style>\n",
       "<table border=\"1\" class=\"dataframe\">\n",
       "  <thead>\n",
       "    <tr style=\"text-align: right;\">\n",
       "      <th></th>\n",
       "      <th>客户日期</th>\n",
       "      <th>汇率表日期</th>\n",
       "      <th>A</th>\n",
       "      <th>B</th>\n",
       "      <th>C</th>\n",
       "    </tr>\n",
       "  </thead>\n",
       "  <tbody>\n",
       "    <tr>\n",
       "      <td>0</td>\n",
       "      <td>10/26/2013</td>\n",
       "      <td>2010-01-05</td>\n",
       "      <td>10</td>\n",
       "      <td>26</td>\n",
       "      <td>2013</td>\n",
       "    </tr>\n",
       "    <tr>\n",
       "      <td>1</td>\n",
       "      <td>10/26/2013</td>\n",
       "      <td>2010-01-06</td>\n",
       "      <td>10</td>\n",
       "      <td>26</td>\n",
       "      <td>2013</td>\n",
       "    </tr>\n",
       "    <tr>\n",
       "      <td>2</td>\n",
       "      <td>9/16/2015</td>\n",
       "      <td>2010-01-07</td>\n",
       "      <td>9</td>\n",
       "      <td>16</td>\n",
       "      <td>2015</td>\n",
       "    </tr>\n",
       "    <tr>\n",
       "      <td>3</td>\n",
       "      <td>10/26/2013</td>\n",
       "      <td>2010-01-08</td>\n",
       "      <td>10</td>\n",
       "      <td>26</td>\n",
       "      <td>2013</td>\n",
       "    </tr>\n",
       "    <tr>\n",
       "      <td>4</td>\n",
       "      <td>6/10/2014</td>\n",
       "      <td>2010-01-11</td>\n",
       "      <td>6</td>\n",
       "      <td>10</td>\n",
       "      <td>2014</td>\n",
       "    </tr>\n",
       "  </tbody>\n",
       "</table>\n",
       "</div>"
      ],
      "text/plain": [
       "         客户日期      汇率表日期   A   B     C\n",
       "0  10/26/2013 2010-01-05  10  26  2013\n",
       "1  10/26/2013 2010-01-06  10  26  2013\n",
       "2   9/16/2015 2010-01-07   9  16  2015\n",
       "3  10/26/2013 2010-01-08  10  26  2013\n",
       "4   6/10/2014 2010-01-11   6  10  2014"
      ]
     },
     "execution_count": 28,
     "metadata": {},
     "output_type": "execute_result"
    }
   ],
   "source": [
    "df.head()"
   ]
  },
  {
   "cell_type": "code",
   "execution_count": 29,
   "metadata": {},
   "outputs": [],
   "source": [
    "df['date']=df['B']+'/'+df['A']+'/'+df['C']"
   ]
  },
  {
   "cell_type": "code",
   "execution_count": 30,
   "metadata": {},
   "outputs": [
    {
     "data": {
      "text/html": [
       "<div>\n",
       "<style scoped>\n",
       "    .dataframe tbody tr th:only-of-type {\n",
       "        vertical-align: middle;\n",
       "    }\n",
       "\n",
       "    .dataframe tbody tr th {\n",
       "        vertical-align: top;\n",
       "    }\n",
       "\n",
       "    .dataframe thead th {\n",
       "        text-align: right;\n",
       "    }\n",
       "</style>\n",
       "<table border=\"1\" class=\"dataframe\">\n",
       "  <thead>\n",
       "    <tr style=\"text-align: right;\">\n",
       "      <th></th>\n",
       "      <th>客户日期</th>\n",
       "      <th>汇率表日期</th>\n",
       "      <th>A</th>\n",
       "      <th>B</th>\n",
       "      <th>C</th>\n",
       "      <th>date</th>\n",
       "    </tr>\n",
       "  </thead>\n",
       "  <tbody>\n",
       "    <tr>\n",
       "      <td>0</td>\n",
       "      <td>10/26/2013</td>\n",
       "      <td>2010-01-05</td>\n",
       "      <td>10</td>\n",
       "      <td>26</td>\n",
       "      <td>2013</td>\n",
       "      <td>26/10/2013</td>\n",
       "    </tr>\n",
       "    <tr>\n",
       "      <td>1</td>\n",
       "      <td>10/26/2013</td>\n",
       "      <td>2010-01-06</td>\n",
       "      <td>10</td>\n",
       "      <td>26</td>\n",
       "      <td>2013</td>\n",
       "      <td>26/10/2013</td>\n",
       "    </tr>\n",
       "    <tr>\n",
       "      <td>2</td>\n",
       "      <td>9/16/2015</td>\n",
       "      <td>2010-01-07</td>\n",
       "      <td>9</td>\n",
       "      <td>16</td>\n",
       "      <td>2015</td>\n",
       "      <td>16/9/2015</td>\n",
       "    </tr>\n",
       "    <tr>\n",
       "      <td>3</td>\n",
       "      <td>10/26/2013</td>\n",
       "      <td>2010-01-08</td>\n",
       "      <td>10</td>\n",
       "      <td>26</td>\n",
       "      <td>2013</td>\n",
       "      <td>26/10/2013</td>\n",
       "    </tr>\n",
       "    <tr>\n",
       "      <td>4</td>\n",
       "      <td>6/10/2014</td>\n",
       "      <td>2010-01-11</td>\n",
       "      <td>6</td>\n",
       "      <td>10</td>\n",
       "      <td>2014</td>\n",
       "      <td>10/6/2014</td>\n",
       "    </tr>\n",
       "  </tbody>\n",
       "</table>\n",
       "</div>"
      ],
      "text/plain": [
       "         客户日期      汇率表日期   A   B     C        date\n",
       "0  10/26/2013 2010-01-05  10  26  2013  26/10/2013\n",
       "1  10/26/2013 2010-01-06  10  26  2013  26/10/2013\n",
       "2   9/16/2015 2010-01-07   9  16  2015   16/9/2015\n",
       "3  10/26/2013 2010-01-08  10  26  2013  26/10/2013\n",
       "4   6/10/2014 2010-01-11   6  10  2014   10/6/2014"
      ]
     },
     "execution_count": 30,
     "metadata": {},
     "output_type": "execute_result"
    }
   ],
   "source": [
    "df.head()"
   ]
  },
  {
   "cell_type": "code",
   "execution_count": 31,
   "metadata": {},
   "outputs": [
    {
     "name": "stdout",
     "output_type": "stream",
     "text": [
      "<class 'pandas.core.frame.DataFrame'>\n",
      "RangeIndex: 2237 entries, 0 to 2236\n",
      "Data columns (total 6 columns):\n",
      "客户日期     2236 non-null object\n",
      "汇率表日期    2006 non-null datetime64[ns]\n",
      "A        2236 non-null object\n",
      "B        2236 non-null object\n",
      "C        2236 non-null object\n",
      "date     2236 non-null object\n",
      "dtypes: datetime64[ns](1), object(5)\n",
      "memory usage: 105.0+ KB\n"
     ]
    }
   ],
   "source": [
    "df.info()"
   ]
  },
  {
   "cell_type": "code",
   "execution_count": 32,
   "metadata": {},
   "outputs": [],
   "source": [
    "df['date1'] = pd.to_datetime(df.date)"
   ]
  },
  {
   "cell_type": "code",
   "execution_count": 33,
   "metadata": {},
   "outputs": [
    {
     "data": {
      "text/html": [
       "<div>\n",
       "<style scoped>\n",
       "    .dataframe tbody tr th:only-of-type {\n",
       "        vertical-align: middle;\n",
       "    }\n",
       "\n",
       "    .dataframe tbody tr th {\n",
       "        vertical-align: top;\n",
       "    }\n",
       "\n",
       "    .dataframe thead th {\n",
       "        text-align: right;\n",
       "    }\n",
       "</style>\n",
       "<table border=\"1\" class=\"dataframe\">\n",
       "  <thead>\n",
       "    <tr style=\"text-align: right;\">\n",
       "      <th></th>\n",
       "      <th>客户日期</th>\n",
       "      <th>汇率表日期</th>\n",
       "      <th>A</th>\n",
       "      <th>B</th>\n",
       "      <th>C</th>\n",
       "      <th>date</th>\n",
       "      <th>date1</th>\n",
       "    </tr>\n",
       "  </thead>\n",
       "  <tbody>\n",
       "    <tr>\n",
       "      <td>0</td>\n",
       "      <td>10/26/2013</td>\n",
       "      <td>2010-01-05</td>\n",
       "      <td>10</td>\n",
       "      <td>26</td>\n",
       "      <td>2013</td>\n",
       "      <td>26/10/2013</td>\n",
       "      <td>2013-10-26</td>\n",
       "    </tr>\n",
       "    <tr>\n",
       "      <td>1</td>\n",
       "      <td>10/26/2013</td>\n",
       "      <td>2010-01-06</td>\n",
       "      <td>10</td>\n",
       "      <td>26</td>\n",
       "      <td>2013</td>\n",
       "      <td>26/10/2013</td>\n",
       "      <td>2013-10-26</td>\n",
       "    </tr>\n",
       "    <tr>\n",
       "      <td>2</td>\n",
       "      <td>9/16/2015</td>\n",
       "      <td>2010-01-07</td>\n",
       "      <td>9</td>\n",
       "      <td>16</td>\n",
       "      <td>2015</td>\n",
       "      <td>16/9/2015</td>\n",
       "      <td>2015-09-16</td>\n",
       "    </tr>\n",
       "    <tr>\n",
       "      <td>3</td>\n",
       "      <td>10/26/2013</td>\n",
       "      <td>2010-01-08</td>\n",
       "      <td>10</td>\n",
       "      <td>26</td>\n",
       "      <td>2013</td>\n",
       "      <td>26/10/2013</td>\n",
       "      <td>2013-10-26</td>\n",
       "    </tr>\n",
       "    <tr>\n",
       "      <td>4</td>\n",
       "      <td>6/10/2014</td>\n",
       "      <td>2010-01-11</td>\n",
       "      <td>6</td>\n",
       "      <td>10</td>\n",
       "      <td>2014</td>\n",
       "      <td>10/6/2014</td>\n",
       "      <td>2014-10-06</td>\n",
       "    </tr>\n",
       "  </tbody>\n",
       "</table>\n",
       "</div>"
      ],
      "text/plain": [
       "         客户日期      汇率表日期   A   B     C        date      date1\n",
       "0  10/26/2013 2010-01-05  10  26  2013  26/10/2013 2013-10-26\n",
       "1  10/26/2013 2010-01-06  10  26  2013  26/10/2013 2013-10-26\n",
       "2   9/16/2015 2010-01-07   9  16  2015   16/9/2015 2015-09-16\n",
       "3  10/26/2013 2010-01-08  10  26  2013  26/10/2013 2013-10-26\n",
       "4   6/10/2014 2010-01-11   6  10  2014   10/6/2014 2014-10-06"
      ]
     },
     "execution_count": 33,
     "metadata": {},
     "output_type": "execute_result"
    }
   ],
   "source": [
    "df.head()"
   ]
  },
  {
   "cell_type": "code",
   "execution_count": 69,
   "metadata": {},
   "outputs": [],
   "source": [
    "df.to_excel('book1.xlsx')"
   ]
  },
  {
   "cell_type": "code",
   "execution_count": null,
   "metadata": {},
   "outputs": [],
   "source": []
  }
 ],
 "metadata": {
  "kernelspec": {
   "display_name": "Python 3",
   "language": "python",
   "name": "python3"
  },
  "language_info": {
   "codemirror_mode": {
    "name": "ipython",
    "version": 3
   },
   "file_extension": ".py",
   "mimetype": "text/x-python",
   "name": "python",
   "nbconvert_exporter": "python",
   "pygments_lexer": "ipython3",
   "version": "3.7.4"
  }
 },
 "nbformat": 4,
 "nbformat_minor": 2
}
